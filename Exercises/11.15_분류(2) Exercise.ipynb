{
 "cells": [
  {
   "cell_type": "markdown",
   "metadata": {
    "id": "VQbsnsUCGoye"
   },
   "source": [
    "1. 필요한 라이브러리를 가져옵니다."
   ]
  },
  {
   "cell_type": "code",
   "execution_count": 1,
   "metadata": {
    "id": "QwdRP8Ci739n"
   },
   "outputs": [],
   "source": [
    "import pandas as pd\n",
    "import lightgbm as lgbm"
   ]
  },
  {
   "cell_type": "markdown",
   "metadata": {
    "id": "piAccQEdGrwl"
   },
   "source": [
    "2. 데이터를 불러옵니다."
   ]
  },
  {
   "cell_type": "code",
   "execution_count": null,
   "metadata": {
    "id": "y8EpAt1eG3d9"
   },
   "outputs": [],
   "source": [
    "train = pd.read_csv('train.csv')\n",
    "test = pd.read_csv('test.csv')\n",
    "smpl_sub = pd.read_csv('sample_submission.csv')"
   ]
  },
  {
   "cell_type": "code",
   "execution_count": null,
   "metadata": {
    "id": "OXq6ErHRG6iP"
   },
   "outputs": [],
   "source": [
    "train.head()"
   ]
  },
  {
   "cell_type": "code",
   "execution_count": null,
   "metadata": {
    "id": "6ocfNn5kG8j9"
   },
   "outputs": [],
   "source": [
    "test.head()"
   ]
  },
  {
   "cell_type": "markdown",
   "metadata": {
    "id": "Ts2gMYSJG-sS"
   },
   "source": [
    "3. 변수를 변환합니다. "
   ]
  },
  {
   "cell_type": "code",
   "execution_count": null,
   "metadata": {
    "id": "zOfBQ3HdHCQN"
   },
   "outputs": [],
   "source": [
    "# type에는 white와 red 두 종류가 있습니다.\n",
    "# 각각 0,1로 변환합니다.\n",
    "\n",
    "#1.\n",
    "from sklearn.preprocessing import LabelEncoder\n",
    "\n",
    "encoder = LabelEncoder()\n",
    "train['type'] = encoder.fit_transform(train['type'].values)\n",
    "test['type'] = encoder.fit_transform(test['type'].values)"
   ]
  },
  {
   "cell_type": "code",
   "execution_count": null,
   "metadata": {
    "id": "_DuxT7h7HEtt"
   },
   "outputs": [],
   "source": [
    "train.head()"
   ]
  },
  {
   "cell_type": "code",
   "execution_count": null,
   "metadata": {
    "id": "GsQuRwghHHgM"
   },
   "outputs": [],
   "source": [
    "test.head()"
   ]
  },
  {
   "cell_type": "code",
   "execution_count": null,
   "metadata": {
    "id": "Lzb5zdhCHSGO"
   },
   "outputs": [],
   "source": [
    "# 모델에 입력하기 전 데이터를 정형합니다.\n",
    "# train_x : train의 'index', 'quality' 피처를 제거하고 저장합니다.\n",
    "# train_y : train의 'quality'를 저장합니다.\n",
    "# test_x : test의 'index'를 제거하고 저장합니다.\n",
    "\n",
    "train_x = train.drop(['index', 'quality'], axis = 1)\n",
    "train_y = train[['quality']]\n",
    "test_x = test.drop(['index'], axis = 1)"
   ]
  },
  {
   "cell_type": "code",
   "execution_count": null,
   "metadata": {
    "id": "gCUg2asfHyvn"
   },
   "outputs": [],
   "source": [
    "train_x.shape, train_y.shape, test_x.shape"
   ]
  },
  {
   "cell_type": "code",
   "execution_count": null,
   "metadata": {
    "id": "ARSg1JgoH2Fs"
   },
   "outputs": [],
   "source": [
    "train_x.head()"
   ]
  },
  {
   "cell_type": "code",
   "execution_count": null,
   "metadata": {
    "id": "RCOT-7VeH2rF"
   },
   "outputs": [],
   "source": [
    "train_y.head()"
   ]
  },
  {
   "cell_type": "code",
   "execution_count": null,
   "metadata": {
    "id": "dlasXgGiH4ct"
   },
   "outputs": [],
   "source": [
    "test_x.head()"
   ]
  },
  {
   "cell_type": "markdown",
   "metadata": {
    "id": "m00r17hhH66e"
   },
   "source": [
    "4. LightGBM 모델을 생성 및 훈련합니다."
   ]
  },
  {
   "cell_type": "code",
   "execution_count": null,
   "metadata": {
    "id": "eCJRGd1HH9Fv"
   },
   "outputs": [],
   "source": [
    "from lightGBM import LGCMClassifier\n",
    "\n",
    "lgbm_data = LGBMClassifier()\n",
    "lgbm_data.fit(train_x, train_y)"
   ]
  },
  {
   "cell_type": "markdown",
   "metadata": {
    "id": "CUm273v_H-5F"
   },
   "source": [
    "5. 생성한 모델로 예측 데이터를 생성합니다."
   ]
  },
  {
   "cell_type": "code",
   "execution_count": null,
   "metadata": {
    "id": "rIOvharKICwt"
   },
   "outputs": [],
   "source": [
    "pred = lgbm_data.predict(test_x)\n",
    "pred[:5]"
   ]
  },
  {
   "cell_type": "markdown",
   "metadata": {
    "id": "bT5l3cIDINkd"
   },
   "source": [
    "6. 제출파일을 생성합니다."
   ]
  },
  {
   "cell_type": "code",
   "execution_count": null,
   "metadata": {
    "id": "hokOFGpzIEc-"
   },
   "outputs": [],
   "source": [
    "head(smpl_sub)"
   ]
  },
  {
   "cell_type": "code",
   "execution_count": null,
   "metadata": {
    "id": "r4TBpZPmIQTs"
   },
   "outputs": [],
   "source": [
    "#서브미션 파일의 quality 변수에 예측값을 대입합니다.\n",
    "smpl_sub['quality'] = pred_data"
   ]
  },
  {
   "cell_type": "code",
   "execution_count": null,
   "metadata": {
    "id": "eIzRCNl_IS5E"
   },
   "outputs": [],
   "source": [
    "head(smpl_sub)"
   ]
  },
  {
   "cell_type": "code",
   "execution_count": null,
   "metadata": {
    "id": "1_PEoYJRIXBv"
   },
   "outputs": [],
   "source": [
    "# csv 파일로 저장합니다.\n",
    "smpl_sub.to_csv('submission.csv', index=False)"
   ]
  }
 ],
 "metadata": {
  "colab": {
   "collapsed_sections": [],
   "name": "분류2.ipynb",
   "provenance": []
  },
  "kernelspec": {
   "display_name": "Python 3",
   "language": "python",
   "name": "python3"
  },
  "language_info": {
   "codemirror_mode": {
    "name": "ipython",
    "version": 3
   },
   "file_extension": ".py",
   "mimetype": "text/x-python",
   "name": "python",
   "nbconvert_exporter": "python",
   "pygments_lexer": "ipython3",
   "version": "3.8.3"
  }
 },
 "nbformat": 4,
 "nbformat_minor": 1
}
